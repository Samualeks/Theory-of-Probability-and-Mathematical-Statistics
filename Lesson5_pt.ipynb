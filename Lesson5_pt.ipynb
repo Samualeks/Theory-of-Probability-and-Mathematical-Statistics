{
 "cells": [
  {
   "cell_type": "markdown",
   "id": "048ff473",
   "metadata": {},
   "source": [
    "Урок 5.\n",
    "1. Известно, что генеральная совокупность распределена нормально\n",
    "со средним квадратическим отклонением, равным 16.\n",
    "Найти доверительный интервал для оценки математического ожидания a с надежностью 0.95,\n",
    "если выборочная средняя M = 80, а объем выборки n = 256."
   ]
  },
  {
   "cell_type": "code",
   "execution_count": 1,
   "id": "aa1eef3b",
   "metadata": {},
   "outputs": [],
   "source": [
    "import pandas as pd\n",
    "import numpy as np\n",
    "from statsmodels.stats.weightstats import _tconfint_generic as t_stat\n",
    "from scipy.stats import norm \n",
    "import math"
   ]
  },
  {
   "cell_type": "code",
   "execution_count": 2,
   "id": "c9094c4b",
   "metadata": {},
   "outputs": [],
   "source": [
    "mean_std = np.sqrt(16) / 256"
   ]
  },
  {
   "cell_type": "code",
   "execution_count": 3,
   "id": "6f2b3735",
   "metadata": {},
   "outputs": [
    {
     "data": {
      "text/plain": [
       "(79.96922952234611, 80.03077047765389)"
      ]
     },
     "execution_count": 3,
     "metadata": {},
     "output_type": "execute_result"
    }
   ],
   "source": [
    "t_stat(80, mean_std,256 - 1, 0.05, 'two-sided')"
   ]
  },
  {
   "cell_type": "markdown",
   "id": "20d92794",
   "metadata": {},
   "source": [
    "2. В результате 10 независимых измерений некоторой величины X, выполненных с одинаковой точностью,\n",
    "получены опытные данные:\n",
    "6.9, 6.1, 6.2, 6.8, 7.5, 6.3, 6.4, 6.9, 6.7, 6.1\n",
    "Предполагая, что результаты измерений подчинены нормальному закону распределения вероятностей,\n",
    "оценить истинное значение величины X при помощи доверительного интервала, покрывающего это\n",
    "значение с доверительной вероятностью 0,95."
   ]
  },
  {
   "cell_type": "code",
   "execution_count": 4,
   "id": "72e8a268",
   "metadata": {},
   "outputs": [],
   "source": [
    "X = np.array([6.9, 6.1, 6.2, 6.8, 7.5, 6.3, 6.4, 6.9, 6.7, 6.1])\n",
    "mean_X = X.mean()\n",
    "std_X = X.std(ddof=1)\n",
    "mean_std_X = std_X / (np.sqrt(len(X)))"
   ]
  },
  {
   "cell_type": "code",
   "execution_count": 5,
   "id": "1a4ec572",
   "metadata": {},
   "outputs": [
    {
     "data": {
      "text/plain": [
       "(6.267515851415713, 6.912484148584288)"
      ]
     },
     "execution_count": 5,
     "metadata": {},
     "output_type": "execute_result"
    }
   ],
   "source": [
    "t_stat(mean_X, mean_std_X,len(X) - 1, 0.05, 'two-sided')"
   ]
  },
  {
   "cell_type": "markdown",
   "id": "88a4703c",
   "metadata": {},
   "source": [
    "3. Проведите тест гипотезы. Утверждается, что шарики для подшипников, изготовленные автоматическим станком, имеют средний диаметр 17 мм.\n",
    "Используя односторонний критерий с α=0,05, проверить эту гипотезу, если в выборке из n=100 шариков средний диаметр\n",
    "оказался равным 17.5 мм, а дисперсия известна и равна 4 кв. мм."
   ]
  },
  {
   "cell_type": "markdown",
   "id": "48bfd9af",
   "metadata": {},
   "source": [
    "H0: M = 7\n",
    "\n",
    "H1: M > 17"
   ]
  },
  {
   "cell_type": "code",
   "execution_count": 7,
   "id": "9c84d43a",
   "metadata": {},
   "outputs": [
    {
     "data": {
      "text/plain": [
       "1.25"
      ]
     },
     "execution_count": 7,
     "metadata": {},
     "output_type": "execute_result"
    }
   ],
   "source": [
    "U_fact = (17.5 - 17) / 4 * np.sqrt(100)\n",
    "U_fact"
   ]
  },
  {
   "cell_type": "code",
   "execution_count": 9,
   "id": "502dae2b",
   "metadata": {},
   "outputs": [],
   "source": [
    "U_cr = 1.645"
   ]
  },
  {
   "cell_type": "markdown",
   "id": "5ad70c3b",
   "metadata": {},
   "source": [
    "т.к. U_fact < U_cr Нулевая гипотеза принимается"
   ]
  },
  {
   "cell_type": "markdown",
   "id": "ab11136c",
   "metadata": {},
   "source": [
    "4. Проведите тест гипотезы. Продавец утверждает, что средний вес пачки печенья составляет 200 г.\n",
    "Из партии извлечена выборка из 10 пачек. Вес каждой пачки составляет:\n",
    "202, 203, 199, 197, 195, 201, 200, 204, 194, 190.\n",
    "Известно, что их веса распределены нормально.\n",
    "Верно ли утверждение продавца, если учитывать, что доверительная вероятность равна 99%? (Провести двусторонний тест.)"
   ]
  },
  {
   "cell_type": "markdown",
   "id": "fa23abd7",
   "metadata": {},
   "source": [
    "H0: M = 200\n",
    "\n",
    "H1: M != 200"
   ]
  },
  {
   "cell_type": "code",
   "execution_count": 10,
   "id": "3b62e25a",
   "metadata": {},
   "outputs": [],
   "source": [
    "X = np.array([202, 203, 199, 197, 195, 201, 200, 204, 194, 190])\n",
    "mean_X = X.mean()\n",
    "std_X = X.std(ddof=1)"
   ]
  },
  {
   "cell_type": "code",
   "execution_count": 11,
   "id": "8f23eb0a",
   "metadata": {},
   "outputs": [
    {
     "data": {
      "text/plain": [
       "-1.0651074037450896"
      ]
     },
     "execution_count": 11,
     "metadata": {},
     "output_type": "execute_result"
    }
   ],
   "source": [
    "t_fact = (mean_X - 200) / std_X * np.sqrt(10)\n",
    "t_fact"
   ]
  },
  {
   "cell_type": "code",
   "execution_count": 12,
   "id": "030ebea9",
   "metadata": {},
   "outputs": [],
   "source": [
    "t_cr = 3.25\n"
   ]
  },
  {
   "cell_type": "markdown",
   "id": "df6d0c83",
   "metadata": {},
   "source": [
    "т.к. abs(t_fact) < t_cr нулевая гипотеза принимается"
   ]
  },
  {
   "cell_type": "code",
   "execution_count": null,
   "id": "1373ed3c",
   "metadata": {},
   "outputs": [],
   "source": []
  }
 ],
 "metadata": {
  "kernelspec": {
   "display_name": "Python 3 (ipykernel)",
   "language": "python",
   "name": "python3"
  },
  "language_info": {
   "codemirror_mode": {
    "name": "ipython",
    "version": 3
   },
   "file_extension": ".py",
   "mimetype": "text/x-python",
   "name": "python",
   "nbconvert_exporter": "python",
   "pygments_lexer": "ipython3",
   "version": "3.9.12"
  }
 },
 "nbformat": 4,
 "nbformat_minor": 5
}
