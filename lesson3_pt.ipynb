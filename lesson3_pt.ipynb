{
 "cells": [
  {
   "cell_type": "markdown",
   "id": "82763ad2",
   "metadata": {},
   "source": [
    "Урок 3. Описательная статистика. Качественные и количественные характеристики популяции. Графическое представление данных"
   ]
  },
  {
   "cell_type": "markdown",
   "id": "caa65f27",
   "metadata": {},
   "source": [
    "1. Даны значения зарплат из выборки выпускников: 100, 80, 75, 77, 89, 33, 45, 25, 65, 17, 30, 24, 57, 55, 70, 75, 65, 84, 90, 150.\n",
    "    Посчитать (желательно без использования статистических методов наподобие std, var, mean) среднее арифметическое, \n",
    "    среднее квадратичное отклонение, смещенную и несмещенную оценки дисперсий для данной выборки."
   ]
  },
  {
   "cell_type": "code",
   "execution_count": 1,
   "id": "21546b0f",
   "metadata": {},
   "outputs": [],
   "source": [
    "import pandas as pd\n",
    "import numpy as np\n",
    "from math import factorial as fl"
   ]
  },
  {
   "cell_type": "code",
   "execution_count": 2,
   "id": "58502479",
   "metadata": {},
   "outputs": [],
   "source": [
    "data = pd.Series([100, 80, 75, 77, 89, 33, 45, 25, 65, 17, 30, 24, 57, 55, 70, 75, 65, 84, 90, 150])\n"
   ]
  },
  {
   "cell_type": "code",
   "execution_count": 3,
   "id": "8fe27efb",
   "metadata": {},
   "outputs": [
    {
     "data": {
      "text/plain": [
       "65.3"
      ]
     },
     "execution_count": 3,
     "metadata": {},
     "output_type": "execute_result"
    }
   ],
   "source": [
    "ME = data.sum() / data.count()\n",
    "ME"
   ]
  },
  {
   "cell_type": "code",
   "execution_count": 4,
   "id": "bfdfd6ed",
   "metadata": {},
   "outputs": [
    {
     "data": {
      "text/plain": [
       "30.823854398825596"
      ]
     },
     "execution_count": 4,
     "metadata": {},
     "output_type": "execute_result"
    }
   ],
   "source": [
    "SD = np.sqrt(((data - ME) ** 2).sum() / data.count())\n",
    "SD"
   ]
  },
  {
   "cell_type": "code",
   "execution_count": 5,
   "id": "e378868a",
   "metadata": {},
   "outputs": [
    {
     "data": {
      "text/plain": [
       "950.11"
      ]
     },
     "execution_count": 5,
     "metadata": {},
     "output_type": "execute_result"
    }
   ],
   "source": [
    "variance = ((data - ME) ** 2).sum() / data.count()\n",
    "variance"
   ]
  },
  {
   "cell_type": "code",
   "execution_count": 6,
   "id": "07617ebc",
   "metadata": {},
   "outputs": [
    {
     "data": {
      "text/plain": [
       "1000.1157894736842"
      ]
     },
     "execution_count": 6,
     "metadata": {},
     "output_type": "execute_result"
    }
   ],
   "source": [
    "variance2 = ((data - ME) ** 2).sum() / (data.count() - 1)\n",
    "variance2"
   ]
  },
  {
   "cell_type": "markdown",
   "id": "990a9518",
   "metadata": {},
   "source": [
    "2. В первом ящике находится 8 мячей, из которых 5 - белые. Во втором ящике - 12 мячей, из которых 5 белых. Из первого ящика вытаскивают случайным образом два мяча, из второго - 4. Какова вероятность того, что 3 мяча белые?"
   ]
  },
  {
   "cell_type": "markdown",
   "id": "541f6b39",
   "metadata": {},
   "source": [
    "А11 - из первого ящика вынули два белых мяча\n",
    "\n",
    "А12 - из второго ящика вынули один белый мяч\n",
    "\n",
    "А21 - из первого ящика вынули один белый мяч\n",
    "\n",
    "А22 - из второго ящика вынули два белых мяча\n",
    "\n",
    "А31 - из первого ящика вынули ноль белых мячей\n",
    "\n",
    "А32 - из второго ящика вынули три белых мяча\n",
    "\n",
    "А - из ящиков вынули три белых мяча\n",
    "\n",
    "А = А11 А12 + А21 А22 + А31* А32"
   ]
  },
  {
   "cell_type": "code",
   "execution_count": 7,
   "id": "28aae038",
   "metadata": {},
   "outputs": [],
   "source": [
    "PA11 = (fl(5) / (fl(2) * fl(5 - 2))) * (fl(3) / (fl(0) * fl(3 - 0))) / (fl(8) / (fl(2) * fl(8 - 2)))\n",
    "PA12 = (fl(5) / (fl(1) * fl(5 - 1))) * (fl(7) / (fl(3) * fl(7 - 3))) / (fl(12) / (fl(4) * fl(12 - 4)))\n",
    "PA21 = (fl(5) / (fl(1) * fl(5 - 1))) * (fl(3) / (fl(1) * fl(3 - 1))) / (fl(8) / (fl(2) * fl(8 - 2)))\n",
    "PА22 = (fl(5) / (fl(2) * fl(5 - 2))) * (fl(7) / (fl(2) * fl(7 - 2))) / (fl(12) / (fl(4) * fl(12 - 4)))\n",
    "PA31 = (fl(5) / (fl(0) * fl(5 - 0))) * (fl(3) / (fl(2) * fl(3 - 2))) / (fl(8) / (fl(2) * fl(8 - 2)))\n",
    "PA32 = (fl(5) / (fl(3) * fl(5 - 3))) * (fl(7) / (fl(1) * fl(7 - 1))) / (fl(12) / (fl(4) * fl(12 - 4)))"
   ]
  },
  {
   "cell_type": "code",
   "execution_count": 8,
   "id": "dcebd825",
   "metadata": {},
   "outputs": [
    {
     "data": {
      "text/plain": [
       "0.3686868686868687"
      ]
     },
     "execution_count": 8,
     "metadata": {},
     "output_type": "execute_result"
    }
   ],
   "source": [
    "PA = PA11 * PA12 + PA21 * PА22 + PA31 * PA32\n",
    "PA"
   ]
  },
  {
   "cell_type": "markdown",
   "id": "a1a403cf",
   "metadata": {},
   "source": [
    "3. На соревновании по биатлону один из трех спортсменов стреляет и попадает в мишень. Вероятность попадания для первого спортсмена равна 0.9, для второго — 0.8, для третьего — 0.6. Найти вероятность того, что выстрел произведен: a). первым спортсменом б). вторым спортсменом в). третьим спортсменом."
   ]
  },
  {
   "cell_type": "markdown",
   "id": "64a83da0",
   "metadata": {},
   "source": [
    "А - мишень поражена\n",
    "\n",
    "А1 - первый стрелок попал в цель\n",
    "\n",
    "А2 - второй стрелок попал в цель\n",
    "\n",
    "А3 - третий стрелок попал в цель"
   ]
  },
  {
   "cell_type": "code",
   "execution_count": 9,
   "id": "1db0ba6d",
   "metadata": {},
   "outputs": [
    {
     "data": {
      "text/plain": [
       "0.7666666666666666"
      ]
     },
     "execution_count": 9,
     "metadata": {},
     "output_type": "execute_result"
    }
   ],
   "source": [
    "PA = 1 / 3 * 0.9 + 1 / 3 * 0.8 + 1 / 3 * 0.6\n",
    "PA"
   ]
  },
  {
   "cell_type": "code",
   "execution_count": 10,
   "id": "7b18ea8f",
   "metadata": {},
   "outputs": [
    {
     "data": {
      "text/plain": [
       "0.391304347826087"
      ]
     },
     "execution_count": 10,
     "metadata": {},
     "output_type": "execute_result"
    }
   ],
   "source": [
    "PA1 = 1 / 3 * 0.9 / PA\n",
    "PA1"
   ]
  },
  {
   "cell_type": "code",
   "execution_count": 11,
   "id": "6da64894",
   "metadata": {},
   "outputs": [
    {
     "data": {
      "text/plain": [
       "0.3478260869565218"
      ]
     },
     "execution_count": 11,
     "metadata": {},
     "output_type": "execute_result"
    }
   ],
   "source": [
    "PA2 = 1 / 3 * 0.8 / PA\n",
    "PA2"
   ]
  },
  {
   "cell_type": "code",
   "execution_count": 12,
   "id": "deb9b2ab",
   "metadata": {},
   "outputs": [
    {
     "data": {
      "text/plain": [
       "0.2608695652173913"
      ]
     },
     "execution_count": 12,
     "metadata": {},
     "output_type": "execute_result"
    }
   ],
   "source": [
    "PA3 = 1 / 3 * 0.6 / PA\n",
    "PA3"
   ]
  },
  {
   "cell_type": "markdown",
   "id": "fab28b9d",
   "metadata": {},
   "source": [
    "4. В университет на факультеты A и B поступило равное количество студентов, а на факультет C студентов поступило столько же, сколько на A и B вместе. Вероятность того, что студент факультета A сдаст первую сессию, равна 0.8. Для студента факультета B эта вероятность равна 0.7, а для студента факультета C - 0.9. Студент сдал первую сессию. Какова вероятность, что он учится: a). на факультете A б). на факультете B в). на факультете C?"
   ]
  },
  {
   "cell_type": "markdown",
   "id": "364d7713",
   "metadata": {},
   "source": [
    "А - Студент сдал первую сессию\n",
    "\n",
    "А1 - студент с факультета А\n",
    "\n",
    "А2 - студент с факультета В\n",
    "\n",
    "А3 - студент с факультета С"
   ]
  },
  {
   "cell_type": "code",
   "execution_count": 13,
   "id": "3cdcf15b",
   "metadata": {},
   "outputs": [
    {
     "data": {
      "text/plain": [
       "0.825"
      ]
     },
     "execution_count": 13,
     "metadata": {},
     "output_type": "execute_result"
    }
   ],
   "source": [
    "PA = 1 / 4 * 0.8 + 1 / 4 * 0.7 + 2 / 4 * 0.9\n",
    "PA"
   ]
  },
  {
   "cell_type": "code",
   "execution_count": 14,
   "id": "9065c35a",
   "metadata": {},
   "outputs": [
    {
     "data": {
      "text/plain": [
       "0.24242424242424246"
      ]
     },
     "execution_count": 14,
     "metadata": {},
     "output_type": "execute_result"
    }
   ],
   "source": [
    "PA1 = 1 / 4 * 0.8 / PA\n",
    "PA1"
   ]
  },
  {
   "cell_type": "code",
   "execution_count": 15,
   "id": "d910c624",
   "metadata": {},
   "outputs": [
    {
     "data": {
      "text/plain": [
       "0.21212121212121213"
      ]
     },
     "execution_count": 15,
     "metadata": {},
     "output_type": "execute_result"
    }
   ],
   "source": [
    "PA2 = 1 / 4 * 0.7 / PA\n",
    "PA2"
   ]
  },
  {
   "cell_type": "code",
   "execution_count": 16,
   "id": "8bc00897",
   "metadata": {},
   "outputs": [
    {
     "data": {
      "text/plain": [
       "0.5454545454545455"
      ]
     },
     "execution_count": 16,
     "metadata": {},
     "output_type": "execute_result"
    }
   ],
   "source": [
    "PA3 = 2 / 4 * 0.9 / PA\n",
    "PA3"
   ]
  },
  {
   "cell_type": "markdown",
   "id": "c8cbbb54",
   "metadata": {},
   "source": [
    "5. Устройство состоит из трех деталей. Для первой детали вероятность выйти из строя в первый месяц равна 0.1, для второй - 0.2, для третьей - 0.25. Какова вероятность того, что в первый месяц выйдут из строя: а). все детали б). только две детали в). хотя бы одна деталь г). от одной до двух деталей?"
   ]
  },
  {
   "cell_type": "markdown",
   "id": "42604ef9",
   "metadata": {},
   "source": [
    "А - из строя вышли все детали"
   ]
  },
  {
   "cell_type": "code",
   "execution_count": 17,
   "id": "30b1536e",
   "metadata": {},
   "outputs": [
    {
     "data": {
      "text/plain": [
       "0.005000000000000001"
      ]
     },
     "execution_count": 17,
     "metadata": {},
     "output_type": "execute_result"
    }
   ],
   "source": [
    "PA = 0.1 * 0.2 * 0.25\n",
    "PA"
   ]
  },
  {
   "cell_type": "markdown",
   "id": "36bbba8d",
   "metadata": {},
   "source": [
    "B1 - из строя вышли первая и вторая деталь, но не вышла третья\n",
    "\n",
    "B2 - из строя вышла первая и третья деталь, но не вышла вторая\n",
    "\n",
    "B3 - из строя вышла вторая и третья деталь, но не вышла первая\n",
    "\n",
    "В = B1 + B2 + B3 - из строя вышло только две детали"
   ]
  },
  {
   "cell_type": "code",
   "execution_count": 19,
   "id": "a7afa5a3",
   "metadata": {},
   "outputs": [
    {
     "data": {
      "text/plain": [
       "0.08000000000000002"
      ]
     },
     "execution_count": 19,
     "metadata": {},
     "output_type": "execute_result"
    }
   ],
   "source": [
    "PB = 0.1 * 0.2 * 0.75 + 0.1 * 0.8 * 0.25 + 0.9 * 0.2 * 0.25\n",
    "PB"
   ]
  },
  {
   "cell_type": "markdown",
   "id": "3c78dd64",
   "metadata": {},
   "source": [
    "C - из строя вышла хотя бы одна деталь"
   ]
  },
  {
   "cell_type": "code",
   "execution_count": 20,
   "id": "b49d3b9b",
   "metadata": {},
   "outputs": [
    {
     "data": {
      "text/plain": [
       "0.45999999999999996"
      ]
     },
     "execution_count": 20,
     "metadata": {},
     "output_type": "execute_result"
    }
   ],
   "source": [
    "PC = 1 - 0.9 * 0.8 * 0.75\n",
    "PC"
   ]
  },
  {
   "cell_type": "markdown",
   "id": "1688182b",
   "metadata": {},
   "source": [
    "D1 - из строя вышла первая деталь\n",
    "\n",
    "D2 - из строя вышла вторая деталь\n",
    "\n",
    "D3 - из строя вышла третья деталь\n",
    "\n",
    "D - из строя вышла одна деталь\n",
    "\n",
    "Е = В + D - из строя вышло от одной до двух деталей"
   ]
  },
  {
   "cell_type": "code",
   "execution_count": 21,
   "id": "6b1dd2ca",
   "metadata": {},
   "outputs": [
    {
     "data": {
      "text/plain": [
       "0.08"
      ]
     },
     "execution_count": 21,
     "metadata": {},
     "output_type": "execute_result"
    }
   ],
   "source": [
    "PD = 0.9 * 0.2 * 0.25 + 0.1 * 0.8 * 0.25 + 0.1 * 0.2 * 0.75\n",
    "PD"
   ]
  },
  {
   "cell_type": "code",
   "execution_count": 22,
   "id": "7a44c9fc",
   "metadata": {},
   "outputs": [
    {
     "data": {
      "text/plain": [
       "0.16000000000000003"
      ]
     },
     "execution_count": 22,
     "metadata": {},
     "output_type": "execute_result"
    }
   ],
   "source": [
    "PE = PB + PD\n",
    "PE"
   ]
  },
  {
   "cell_type": "code",
   "execution_count": null,
   "id": "2cf5e0d7",
   "metadata": {},
   "outputs": [],
   "source": []
  }
 ],
 "metadata": {
  "kernelspec": {
   "display_name": "Python 3 (ipykernel)",
   "language": "python",
   "name": "python3"
  },
  "language_info": {
   "codemirror_mode": {
    "name": "ipython",
    "version": 3
   },
   "file_extension": ".py",
   "mimetype": "text/x-python",
   "name": "python",
   "nbconvert_exporter": "python",
   "pygments_lexer": "ipython3",
   "version": "3.9.12"
  }
 },
 "nbformat": 4,
 "nbformat_minor": 5
}
