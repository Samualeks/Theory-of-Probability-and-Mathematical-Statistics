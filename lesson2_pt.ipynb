{
 "cells": [
  {
   "cell_type": "markdown",
   "id": "f081281f",
   "metadata": {},
   "source": [
    "Урок 2."
   ]
  },
  {
   "cell_type": "markdown",
   "id": "17b54498",
   "metadata": {},
   "source": [
    "1. Вероятность того, что стрелок попадет в мишень, выстрелив один раз, равна 0.8. \n",
    "Стрелок выстрелил 100 раз. Найдите вероятность того, что стрелок попадет в цель ровно 85 раз."
   ]
  },
  {
   "cell_type": "code",
   "execution_count": 14,
   "id": "09c7067f",
   "metadata": {},
   "outputs": [],
   "source": [
    "import pandas as pd\n",
    "import numpy as np\n",
    "from math import factorial as fl"
   ]
  },
  {
   "attachments": {},
   "cell_type": "markdown",
   "id": "52dcc999",
   "metadata": {},
   "source": [
    "$$P_n(X=k) = C_n^k p^k q^{n-k}$$.  \n",
    "Используем биноминальное распределение с параметрами:\n",
    "\n",
    "- k = 85\n",
    "\n",
    "- n = 100\n",
    "\n",
    "- p = 0.8\n",
    "\n",
    "- q = 1 - p = 1 - 0.8 = 0.2\n"
   ]
  },
  {
   "cell_type": "code",
   "execution_count": 15,
   "id": "c70c9eda",
   "metadata": {},
   "outputs": [
    {
     "name": "stdout",
     "output_type": "stream",
     "text": [
      "Вероятность того, что стрелок из ста выстрелов попадет в мишень ровно 85 раз = 0.0481\n"
     ]
    }
   ],
   "source": [
    "P100 = (fl(100) / (fl(85) * fl(100 - 85))) * 0.8 ** 85 * 0.2 ** (100 - 85)\n",
    "print(f'Вероятность того, что стрелок из ста выстрелов попадет в мишень ровно 85 раз = {P100 :.4f}')"
   ]
  },
  {
   "cell_type": "markdown",
   "id": "ad1867d1",
   "metadata": {},
   "source": [
    "2. Вероятность того, что лампочка перегорит в течение первого дня эксплуатации, равна 0.0004. \n",
    "В жилом комплексе после ремонта в один день включили 5000 новых лампочек. \n",
    "Какова вероятность, что ни одна из них не перегорит в первый день? \n",
    "Какова вероятность, что перегорят ровно две?"
   ]
  },
  {
   "cell_type": "markdown",
   "id": "1fb8e77e",
   "metadata": {},
   "source": [
    "А - не перегорела ни одна лампочка"
   ]
  },
  {
   "attachments": {},
   "cell_type": "markdown",
   "id": "8825930e",
   "metadata": {},
   "source": [
    "$P(A) = 1 - q ^ n$"
   ]
  },
  {
   "cell_type": "code",
   "execution_count": 16,
   "id": "d37da63f",
   "metadata": {},
   "outputs": [
    {
     "name": "stdout",
     "output_type": "stream",
     "text": [
      "Вероятность того, что не перегорит ни одна лампочка = 0.865\n"
     ]
    }
   ],
   "source": [
    "P = 1 - (1 - 0.0004) ** 5000\n",
    "\n",
    "print(f'Вероятность того, что не перегорит ни одна лампочка = {P :.3f}')"
   ]
  },
  {
   "cell_type": "markdown",
   "id": "d092cc5a",
   "metadata": {},
   "source": [
    "3. Монету подбросили 144 раза. \n",
    "Какова вероятность, что орел выпадет ровно 70 раз?"
   ]
  },
  {
   "cell_type": "markdown",
   "id": "205cf588",
   "metadata": {},
   "source": [
    "\n",
    "n = 144\n",
    "\n",
    "k = 70\n",
    "\n",
    "p = 0.5\n",
    "\n",
    "q = 0.5"
   ]
  },
  {
   "cell_type": "markdown",
   "id": "04936f0a",
   "metadata": {},
   "source": [
    "$P_{144}(X=70) = C_{144}^{70} {0.5}^{70} {0.5}^{144-70} = $"
   ]
  },
  {
   "cell_type": "code",
   "execution_count": 17,
   "id": "6ab82b3d",
   "metadata": {},
   "outputs": [
    {
     "name": "stdout",
     "output_type": "stream",
     "text": [
      "Вероятность того, что орел выпадет ровно 70 раз = 0.0628\n"
     ]
    }
   ],
   "source": [
    "P144 = (fl(144) / (fl(70) * fl(144 - 70))) * 0.5 ** 70 * 0.5 ** (144 - 70)\n",
    "\n",
    "print(f'Вероятность того, что орел выпадет ровно 70 раз = {P144 :.4f}')"
   ]
  },
  {
   "cell_type": "markdown",
   "id": "191e0825",
   "metadata": {},
   "source": [
    "4. В первом ящике находится 10 мячей, из которых 7 - белые. \n",
    "Во втором ящике - 11 мячей, из которых 9 белых. \n",
    "Из каждого ящика вытаскивают случайным образом по два мяча. \n",
    "Какова вероятность того, что все мячи белые? \n",
    "Какова вероятность того, что ровно два мяча белые? \n",
    "Какова вероятность того, что хотя бы один мяч белый?"
   ]
  },
  {
   "cell_type": "markdown",
   "id": "b4356071",
   "metadata": {},
   "source": [
    "А1 - мячи, вынутые из первого ящика все белые\n",
    "\n",
    "А2 - мячи, вынутые из второго ящика все белые\n",
    "\n",
    "А = А1 * А2 - все мячи белые"
   ]
  },
  {
   "cell_type": "markdown",
   "id": "867d3980",
   "metadata": {},
   "source": [
    "$P(A1) = {C_{7}^{2}}/{C_{10}^{2} }$"
   ]
  },
  {
   "cell_type": "markdown",
   "id": "e01b9965",
   "metadata": {},
   "source": [
    "$P(A2) = {C_{9}^{2}}/{C_{11}^{2} }$"
   ]
  },
  {
   "cell_type": "markdown",
   "id": "29417e36",
   "metadata": {},
   "source": [
    "$P(A) = P(A1)*P(A2)$"
   ]
  },
  {
   "cell_type": "code",
   "execution_count": 18,
   "id": "581b6209",
   "metadata": {},
   "outputs": [
    {
     "name": "stdout",
     "output_type": "stream",
     "text": [
      "Вероятность того, что все мячи белые = 0.305\n"
     ]
    }
   ],
   "source": [
    "PA1 = (fl(7) / (fl(2)*fl(7 - 2))) / (fl(10) / (fl(2)*fl(10 - 2)))\n",
    "PA2 = (fl(9) / (fl(2)*fl(9 - 2))) / (fl(11) / (fl(2)*fl(11 - 2)))\n",
    "print(f'Вероятность того, что все мячи белые = {PA1 * PA2 :.3f}')"
   ]
  },
  {
   "cell_type": "markdown",
   "id": "89ca9df9",
   "metadata": {},
   "source": [
    "A11 - из первого ящика вынули два белых мяча\n",
    "\n",
    "А12 - из второго ящика вынули только черные мячи\n",
    "\n",
    "А21 - из второго ящика вынули два белых мяча\n",
    "\n",
    "А22 - из первого ящика вынули только черные мячи\n",
    "\n",
    "А31 - из первого ящика вынули один белый мячи\n",
    "\n",
    "А32 - из второго ящика вынули один белый мячи\n",
    "\n",
    "А = А11 А12 + А21 А22 + А31 * А32 - вынули ровно два белых мяча"
   ]
  },
  {
   "cell_type": "markdown",
   "id": "6ed810d3",
   "metadata": {},
   "source": [
    "$P(A11) = {C_{7}^{2}}/{C_{10}^{2} }$"
   ]
  },
  {
   "cell_type": "markdown",
   "id": "6953687a",
   "metadata": {},
   "source": [
    "$P(A12) ={C_{2}^{2}}/{C_{11}^{2} }$"
   ]
  },
  {
   "cell_type": "code",
   "execution_count": 19,
   "id": "f2a4ba64",
   "metadata": {},
   "outputs": [],
   "source": [
    "PA11A12 =  (fl(7) / (fl(2)*fl(7 - 2))) / (fl(10) / (fl(2)*fl(10 - 2))) * (fl(2) / (fl(2)*fl(2 - 2))) / (fl(11) / (fl(2)*fl(11 - 2)))"
   ]
  },
  {
   "cell_type": "markdown",
   "id": "0cb98c09",
   "metadata": {},
   "source": [
    "$P(A21) ={C_{3}^{2}}/{C_{10}^{2} }$\n"
   ]
  },
  {
   "cell_type": "markdown",
   "id": "02e63235",
   "metadata": {},
   "source": [
    "$P(A22) ={C_{9}^{2}}/{C_{11}^{2} }$"
   ]
  },
  {
   "cell_type": "code",
   "execution_count": 20,
   "id": "7ab78698",
   "metadata": {},
   "outputs": [],
   "source": [
    "PA21A22 = (fl(3) / (fl(2)*fl(3 - 2))) / (fl(10) / (fl(2)*fl(10 - 2))) * (fl(9) / (fl(2)*fl(9 - 2))) / (fl(11) / (fl(2)*fl(11 - 2)))"
   ]
  },
  {
   "cell_type": "markdown",
   "id": "ba10025b",
   "metadata": {},
   "source": [
    "$P(A31) ={C_{7}^{1} * C_{3}^{1}}/{C_{10}^{2} }$\n",
    "\n",
    "$P(A33) ={C_{9}^{1} * C_{2}^{1}}/{C_{11}^{2} }$"
   ]
  },
  {
   "cell_type": "code",
   "execution_count": 21,
   "id": "0e6b4fbe",
   "metadata": {},
   "outputs": [],
   "source": [
    "PA31 = (fl(7) / (fl(1)*fl(7 - 1)) * fl(3)) / (fl(1)*fl(3 - 1)) / (fl(10) / (fl(2)*fl(10 - 2))) \n",
    "PA32 = (fl(9) / (fl(1)*fl(9 - 1)) * fl(2)) / (fl(1)*fl(2 - 1)) / (fl(11) / (fl(2)*fl(11 - 2)))"
   ]
  },
  {
   "cell_type": "code",
   "execution_count": 22,
   "id": "c936ed67",
   "metadata": {},
   "outputs": [
    {
     "name": "stdout",
     "output_type": "stream",
     "text": [
      "Вероятность того, что вынут ровно два белых мяча = 0.205\n"
     ]
    }
   ],
   "source": [
    "PA = PA11A12 + PA21A22 + PA31 * PA32\n",
    "print(f'Вероятность того, что вынут ровно два белых мяча = {PA :.3f}')"
   ]
  },
  {
   "cell_type": "code",
   "execution_count": 23,
   "id": "e12b63f6",
   "metadata": {},
   "outputs": [
    {
     "name": "stdout",
     "output_type": "stream",
     "text": [
      "Вероятность того, что вытянут хотя бы один белый мяч = 0.999\n"
     ]
    }
   ],
   "source": [
    "PA = 1 - (fl(3) / (fl(2)*fl(3 - 2))) / (fl(10) / (fl(2)*fl(10 - 2))) * (fl(2) / (fl(2)*fl(2 - 2))) / (fl(11) / (fl(2)*fl(11 - 2)))\n",
    "print(f'Вероятность того, что вытянут хотя бы один белый мяч = {PA :.3f}')"
   ]
  },
  {
   "cell_type": "code",
   "execution_count": null,
   "id": "f1470f39",
   "metadata": {},
   "outputs": [],
   "source": []
  }
 ],
 "metadata": {
  "kernelspec": {
   "display_name": "Python 3 (ipykernel)",
   "language": "python",
   "name": "python3"
  },
  "language_info": {
   "codemirror_mode": {
    "name": "ipython",
    "version": 3
   },
   "file_extension": ".py",
   "mimetype": "text/x-python",
   "name": "python",
   "nbconvert_exporter": "python",
   "pygments_lexer": "ipython3",
   "version": "3.9.12"
  }
 },
 "nbformat": 4,
 "nbformat_minor": 5
}
